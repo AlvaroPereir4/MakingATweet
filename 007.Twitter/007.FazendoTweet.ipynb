{
 "cells": [
  {
   "attachments": {},
   "cell_type": "markdown",
   "metadata": {},
   "source": [
    "PROJETO - Twitter, Postando via codigo.\n",
    "\n",
    "Bibliotecas do Python que serão utilizadas: \n",
    "- Tweepy\n"
   ]
  },
  {
   "cell_type": "code",
   "execution_count": 62,
   "metadata": {},
   "outputs": [],
   "source": [
    "# Importando as Bibliotecas\n",
    "import tweepy"
   ]
  },
  {
   "cell_type": "code",
   "execution_count": 63,
   "metadata": {},
   "outputs": [],
   "source": [
    "# Definindo o TOKEN do TwitterDev\n",
    "import tweepy\n",
    "client = tweepy.Client(consumer_key=\"iJTtH9QBAGjARNjKVfsmOylu3\",\n",
    "                    consumer_secret=\"CbuhO1lW2KpJunyQrpLhKeupqZNyVOKULhGx2YY6d9xYoSeZ7R\",\n",
    "                    access_token=\"848314939655716864-u2Ic06T2fTDvuXZoPopEMBAbiSggpwk\",\n",
    "                    access_token_secret=\"cMGCIhhXNOnLjdvp1JHDgqPAWPn8PYykjIaF9WeAaooZh\")"
   ]
  },
  {
   "cell_type": "code",
   "execution_count": null,
   "metadata": {},
   "outputs": [],
   "source": [
    "# Tweet que será postado\n",
    "response = client.create_tweet(text='hello world')"
   ]
  }
 ],
 "metadata": {
  "kernelspec": {
   "display_name": "Python 3",
   "language": "python",
   "name": "python3"
  },
  "language_info": {
   "codemirror_mode": {
    "name": "ipython",
    "version": 3
   },
   "file_extension": ".py",
   "mimetype": "text/x-python",
   "name": "python",
   "nbconvert_exporter": "python",
   "pygments_lexer": "ipython3",
   "version": "3.10.4"
  },
  "orig_nbformat": 4
 },
 "nbformat": 4,
 "nbformat_minor": 2
}
